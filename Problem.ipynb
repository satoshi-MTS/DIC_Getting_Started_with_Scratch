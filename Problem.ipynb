{
 "cells": [
  {
   "cell_type": "markdown",
   "id": "f3ef8a7c-45de-4509-b51a-30ccb6cc0453",
   "metadata": {},
   "source": [
    "# 機械学習スクラッチ入門\n",
    "## 【問題1】train_test_split のスクラッチ\n",
    "まずは、scikit-learnの train_test_split をスクラッチしてみます。以下の雛形をベースに関数を実装してください。"
   ]
  },
  {
   "cell_type": "code",
   "execution_count": null,
   "id": "f42e0ae4-2e97-435b-b1c0-4b148e083591",
   "metadata": {},
   "outputs": [],
   "source": [
    "import random\n",
    "import numpy as np"
   ]
  },
  {
   "cell_type": "code",
   "execution_count": null,
   "id": "17908cac-6c8f-4291-8a1a-e18e73b15d5e",
   "metadata": {},
   "outputs": [],
   "source": [
    "def scratch_train_test_split(X, y, train_size=0.8):\n",
    "    \"\"\"検証データを分割する。\n",
    "    Parameters\n",
    "    ----------\n",
    "    X : ndarray\n",
    "      訓練データ (n_samples, n_features)\n",
    "    y : ndarray\n",
    "      正解値 (n_samples,)\n",
    "    train_size : float\n",
    "      何割をtrainとするか指定 (0 < train_size < 1)\n",
    "    Returns\n",
    "    -------\n",
    "    X_train : ndarray\n",
    "      訓練データ (n_samples, n_features)\n",
    "    X_test : ndarray\n",
    "      検証データ (n_samples, n_features)\n",
    "    y_train : ndarray\n",
    "      訓練データの正解値 (n_samples,)\n",
    "    y_test : ndarray\n",
    "      検証データの正解値 (n_samples,)\n",
    "    \"\"\"\n",
    "    \n",
    "    Xn_sample = X.shape[0] # データのインデックス(行、サンプル)の数を抽出\n",
    "    Xn_train = int((Xn_sample * train_size)) # そのうち何割を訓練データにするか設定\n",
    "    Xn_test = Xn_sample - Xn_train # 残りをテストデータに\n",
    "    \n",
    "    rng = np.random.RandomState() # インスタンス化（ランダムが欲しい）\n",
    "    shuffle_n_sample = rng.permutation(Xn_sample) # インデックスをランダムに並び替える\n",
    "    \n",
    "    X_test = X[shuffle_n_sample[:Xn_test]] # 並び替えた後先頭からテストデータに\n",
    "    X_train = X[shuffle_n_sample[Xn_test:]] # 残りを訓練データに\n",
    "    \n",
    "    \n",
    "    yn_sample = y.shape[0] # データのインデックス(行、サンプル)の数を抽出\n",
    "    yn_train = int((yn_sample * train_size)) # そのうち何割を訓練データにするか設定\n",
    "    yn_test = yn_sample - yn_train # 残りをテストデータに\n",
    "    \n",
    "    shuffle_n_sample = rng.permutation(yn_sample) # インデックスをランダムに並び替える\n",
    "    \n",
    "    y_test = y[shuffle_n_sample[:yn_test]] # 並び替えた後先頭からテストデータに\n",
    "    y_train = y[shuffle_n_sample[yn_test:]] # 残りを訓練データに\n",
    "    \n",
    "    return X_train, X_test, y_train, y_test"
   ]
  },
  {
   "cell_type": "code",
   "execution_count": null,
   "id": "ef2ba10c-7490-4d4f-b44a-f8659288709d",
   "metadata": {},
   "outputs": [],
   "source": [
    "test_X = np.arange(25).reshape(5, 5)\n",
    "test_y = np.arange(100, 125)"
   ]
  },
  {
   "cell_type": "code",
   "execution_count": null,
   "id": "092e57f1-3f63-4a59-ba98-e98e821bb124",
   "metadata": {},
   "outputs": [],
   "source": [
    "display(scratch_train_test_split(test_X, test_y))"
   ]
  },
  {
   "cell_type": "code",
   "execution_count": null,
   "id": "46277dec-d9ef-4de0-bd71-c86938d8db1a",
   "metadata": {},
   "outputs": [],
   "source": [
    "display(scratch_train_test_split(test_X, test_y))"
   ]
  },
  {
   "cell_type": "markdown",
   "id": "455db64f-c3c6-4cc4-bf1e-9beccdd513d0",
   "metadata": {},
   "source": [
    "## 【問題2】 分類問題を解くコードの作成\n",
    "上記3種類の手法で3種類のデータセットを学習・推定するコードを作成してください。"
   ]
  },
  {
   "cell_type": "markdown",
   "id": "c6e92094-0fd5-4eee-bd9b-6e9bc0c0f515",
   "metadata": {},
   "source": [
    "### 1. iris  \n",
    "\n",
    "1つ目は事前学習期間同様のirisデータセットです。\n",
    "\n",
    "2値分類としたいため、以下の2つの目的変数のみ利用します。特徴量は4種類すべて使います。\n",
    "\n",
    "virgicolorとvirginica"
   ]
  },
  {
   "cell_type": "code",
   "execution_count": null,
   "id": "c1808dc5-d23b-4f23-afc8-bf014912badc",
   "metadata": {},
   "outputs": [],
   "source": [
    "from sklearn.datasets import load_iris \n",
    "iris = load_iris()\n",
    "iris.data.shape"
   ]
  },
  {
   "cell_type": "code",
   "execution_count": null,
   "id": "914fb8a4-b7b5-43d0-9514-4b74baf0503a",
   "metadata": {},
   "outputs": [],
   "source": [
    "import pandas as pd\n",
    "X = pd.DataFrame(iris.data, columns=iris.feature_names)\n",
    "y = pd.DataFrame(iris.target)\n",
    "y = y.rename(columns={0 : 'Species'})"
   ]
  },
  {
   "cell_type": "code",
   "execution_count": null,
   "id": "f4d44119-0137-4d76-9a98-4eeed17d84ff",
   "metadata": {},
   "outputs": [],
   "source": [
    "display(X.shape, y.shape)"
   ]
  },
  {
   "cell_type": "code",
   "execution_count": null,
   "id": "eb052c75-8c61-4cca-8779-2829913a51c6",
   "metadata": {},
   "outputs": [],
   "source": [
    "X = X[50:]\n",
    "X.shape"
   ]
  },
  {
   "cell_type": "code",
   "execution_count": null,
   "id": "439ffd16-c48a-423b-89b0-9319920b5629",
   "metadata": {},
   "outputs": [],
   "source": [
    "y1 = y.query('Species == 1') # 先程のコードはDF対応させてない\n",
    "y2 = y.query('Species == 2')\n",
    "y = pd.concat([y1, y2], axis=0)\n",
    "y.shape"
   ]
  },
  {
   "cell_type": "code",
   "execution_count": null,
   "id": "d2c1fa8f-bf78-4350-85d2-9e928aa55b02",
   "metadata": {},
   "outputs": [],
   "source": [
    "# 正規化\n",
    "from sklearn.preprocessing import MinMaxScaler\n",
    "scaler = MinMaxScaler()\n",
    "X = scaler.fit_transform(X)"
   ]
  },
  {
   "cell_type": "code",
   "execution_count": null,
   "id": "0ae853dc-51a7-403f-b12a-a1756a892cb5",
   "metadata": {},
   "outputs": [],
   "source": [
    "# データ分別\n",
    "train_X80, test_X20, train_y80, test_y20 = scratch_train_test_split(X, y.values)"
   ]
  },
  {
   "cell_type": "markdown",
   "id": "3700db76-e624-4240-8f01-8001fde759e2",
   "metadata": {},
   "source": [
    "#### ロジスティック回帰(最適化方法はSDG)"
   ]
  },
  {
   "cell_type": "code",
   "execution_count": null,
   "id": "6b05ee29-301a-41aa-aa12-353eb3a173ed",
   "metadata": {},
   "outputs": [],
   "source": [
    "from sklearn.linear_model import SGDClassifier\n",
    "sgd_iris = SGDClassifier(loss='log')\n",
    "sgd_iris.fit(train_X80, train_y80)"
   ]
  },
  {
   "cell_type": "code",
   "execution_count": null,
   "id": "394e17da-cd15-449f-81af-3d5945c53274",
   "metadata": {},
   "outputs": [],
   "source": [
    "sgd_iris_prod = sgd_iris.predict(test_X20)\n",
    "from sklearn.metrics import classification_report\n",
    "print(classification_report(test_y20, sgd_iris_prod))"
   ]
  },
  {
   "cell_type": "markdown",
   "id": "7a0cc9d1-1605-467d-86e1-e48187e1a72a",
   "metadata": {},
   "source": [
    "全部1って出力してるしめちゃスコア低い  \n",
    "\n",
    "#### SVM"
   ]
  },
  {
   "cell_type": "code",
   "execution_count": null,
   "id": "8c8f8926-9370-4e7d-8eb4-a156efdff29d",
   "metadata": {},
   "outputs": [],
   "source": [
    "from sklearn.svm import SVC\n",
    "svc_iris = SVC() # probabilityで確率出力\n",
    "svc_iris.fit(train_X80, train_y80)\n",
    "svc_iris_pred = svc_iris.predict(test_X20)\n",
    "print(classification_report(test_y20, svc_iris_pred))"
   ]
  },
  {
   "cell_type": "markdown",
   "id": "be502eb3-63ed-4692-81d7-3e3eea1393d7",
   "metadata": {},
   "source": [
    "まぁまぁ低い\n",
    "\n",
    "#### 決定木"
   ]
  },
  {
   "cell_type": "code",
   "execution_count": null,
   "id": "8d7d7c83-92c2-48f3-aa38-3e2172da17ce",
   "metadata": {},
   "outputs": [],
   "source": [
    "from sklearn.tree import DecisionTreeClassifier\n",
    "dtc_iris = DecisionTreeClassifier()\n",
    "dtc_iris.fit(train_X80, train_y80)\n",
    "dtc_iris_pred = dtc_iris.predict(test_X20)\n",
    "print(classification_report(test_y20, dtc_iris_pred))"
   ]
  },
  {
   "cell_type": "markdown",
   "id": "b8cf1bff-c7d6-4374-8f5e-1753b4720fd0",
   "metadata": {},
   "source": [
    "低い\n",
    "\n",
    "### 2.シンプルデータセット1"
   ]
  },
  {
   "cell_type": "code",
   "execution_count": null,
   "id": "9ffecac7-82cb-4d45-8269-322f7b8304cb",
   "metadata": {},
   "outputs": [],
   "source": [
    "np.random.seed(seed=0)\n",
    "n_samples = 500\n",
    "f0 = [-1, 2]\n",
    "f1 = [2, -1]\n",
    "cov = [[1.0,0.8], [0.8, 1.0]]\n",
    "f0 = np.random.multivariate_normal(f0, cov, n_samples // 2)\n",
    "f1 = np.random.multivariate_normal(f1, cov, n_samples // 2)\n",
    "X = np.concatenate([f0, f1])\n",
    "y = np.concatenate([\n",
    "    np.full(n_samples // 2, 1),\n",
    "    np.full(n_samples // 2, -1)\n",
    "])"
   ]
  },
  {
   "cell_type": "code",
   "execution_count": null,
   "id": "4e842a96-6195-4762-897f-d9079d7087d0",
   "metadata": {},
   "outputs": [],
   "source": [
    "# データ分別\n",
    "train_X80, test_X20, train_y80, test_y20 = scratch_train_test_split(X, y)"
   ]
  },
  {
   "cell_type": "markdown",
   "id": "416053a6-2ad1-48d2-9a1d-d62a63aafdcf",
   "metadata": {},
   "source": [
    "#### ロジスティック回帰"
   ]
  },
  {
   "cell_type": "code",
   "execution_count": null,
   "id": "439f39b3-c4b4-424f-af7f-c3782bb6ee6a",
   "metadata": {},
   "outputs": [],
   "source": [
    "from sklearn.linear_model import SGDClassifier\n",
    "sgd_simple1 = SGDClassifier(loss='log')\n",
    "sgd_simple1.fit(train_X80, train_y80)\n",
    "sgd_simple1_prod = sgd_simple1.predict(test_X20)\n",
    "from sklearn.metrics import classification_report\n",
    "print(classification_report(test_y20, sgd_simple1_prod))"
   ]
  },
  {
   "cell_type": "markdown",
   "id": "4bd3d853-f3ab-44fd-9118-edfe75e7fefe",
   "metadata": {},
   "source": [
    "#### SVM"
   ]
  },
  {
   "cell_type": "code",
   "execution_count": null,
   "id": "03e66347-cc22-4c30-ae18-f00bca6f5daa",
   "metadata": {},
   "outputs": [],
   "source": [
    "from sklearn.svm import SVC\n",
    "svc_simple1 = SVC() # probabilityで確率出力\n",
    "svc_simple1.fit(train_X80, train_y80)\n",
    "svc_simple1_pred = svc_simple1.predict(test_X20)\n",
    "print(classification_report(test_y20, svc_simple1_pred))"
   ]
  },
  {
   "cell_type": "markdown",
   "id": "902bd0f8-eab8-411f-b24e-b7e58fb32277",
   "metadata": {},
   "source": [
    "#### 決定木"
   ]
  },
  {
   "cell_type": "code",
   "execution_count": null,
   "id": "3a0aaf8a-f1c6-409e-bd39-5baeb1caf86f",
   "metadata": {},
   "outputs": [],
   "source": [
    "from sklearn.tree import DecisionTreeClassifier\n",
    "dtc_simple1 = DecisionTreeClassifier()\n",
    "dtc_simple1.fit(train_X80, train_y80)\n",
    "dtc_simple1_pred = dtc_simple1.predict(test_X20)\n",
    "print(classification_report(test_y20, dtc_simple1_pred))"
   ]
  },
  {
   "cell_type": "markdown",
   "id": "89649fb7-04a2-4cf9-b34d-75ccac2a04e0",
   "metadata": {},
   "source": [
    "### 3.シンプルデータセット2"
   ]
  },
  {
   "cell_type": "code",
   "execution_count": null,
   "id": "34677c23-8966-42dd-a3fe-5b6cfd4369c8",
   "metadata": {},
   "outputs": [],
   "source": [
    "X = np.array([\n",
    "    [-0.44699 , -2.8073  ],[-1.4621  , -2.4586  ],\n",
    "    [ 0.10645 ,  1.9242  ],[-3.5944  , -4.0112  ],\n",
    "    [-0.9888  ,  4.5718  ],[-3.1625  , -3.9606  ],\n",
    "    [ 0.56421 ,  0.72888 ],[-0.60216 ,  8.4636  ],\n",
    "    [-0.61251 , -0.75345 ],[-0.73535 , -2.2718  ],\n",
    "    [-0.80647 , -2.2135  ],[ 0.86291 ,  2.3946  ],\n",
    "    [-3.1108  ,  0.15394 ],[-2.9362  ,  2.5462  ],\n",
    "    [-0.57242 , -2.9915  ],[ 1.4771  ,  3.4896  ],\n",
    "    [ 0.58619 ,  0.37158 ],[ 0.6017  ,  4.3439  ],\n",
    "    [-2.1086  ,  8.3428  ],[-4.1013  , -4.353   ],\n",
    "    [-1.9948  , -1.3927  ],[ 0.35084 , -0.031994],\n",
    "    [ 0.96765 ,  7.8929  ],[-1.281   , 15.6824  ],\n",
    "    [ 0.96765 , 10.083   ],[ 1.3763  ,  1.3347  ],\n",
    "    [-2.234   , -2.5323  ],[-2.9452  , -1.8219  ],\n",
    "    [ 0.14654 , -0.28733 ],[ 0.5461  ,  5.8245  ],\n",
    "    [-0.65259 ,  9.3444  ],[ 0.59912 ,  5.3524  ],\n",
    "    [ 0.50214 , -0.31818 ],[-3.0603  , -3.6461  ],\n",
    "    [-6.6797  ,  0.67661 ],[-2.353   , -0.72261 ],\n",
    "    [ 1.1319  ,  2.4023  ],[-0.12243 ,  9.0162  ],\n",
    "    [-2.5677  , 13.1779  ],[ 0.057313,  5.4681  ],\n",
    "])\n",
    "y = np.array([0, 0, 0, 0, 0, 0, 0, 0, 0, 0, 0, 0, 0, 0, 0, 0, 0, 0, 0, 0, 1, 1,\n",
    "       1, 1, 1, 1, 1, 1, 1, 1, 1, 1, 1, 1, 1, 1, 1, 1, 1, 1])"
   ]
  },
  {
   "cell_type": "code",
   "execution_count": null,
   "id": "9a16955d-848b-42b3-9d0b-32fb60003c6f",
   "metadata": {},
   "outputs": [],
   "source": [
    "# データ分別\n",
    "train_X80, test_X20, train_y80, test_y20 = scratch_train_test_split(X, y)"
   ]
  },
  {
   "cell_type": "markdown",
   "id": "b87bebcc-8271-4bef-86bc-f76ca82c0d37",
   "metadata": {},
   "source": [
    "#### ロジスティック回帰"
   ]
  },
  {
   "cell_type": "code",
   "execution_count": null,
   "id": "ce669778-0ad3-4048-b723-4f739cda9175",
   "metadata": {},
   "outputs": [],
   "source": [
    "from sklearn.linear_model import SGDClassifier\n",
    "sgd_simple2 = SGDCla　ssifier(loss='log')\n",
    "sgd_simple2.fit(train_X80, train_y80)\n",
    "sgd_simple2_prod = sgd_simple2.predict(test_X20)\n",
    "from sklearn.metrics import classification_report\n",
    "print(classification_report(test_y20, sgd_simple2_prod))"
   ]
  },
  {
   "cell_type": "markdown",
   "id": "37c85425-d404-42af-bb85-a19823b965b8",
   "metadata": {},
   "source": [
    "#### SVM"
   ]
  },
  {
   "cell_type": "code",
   "execution_count": null,
   "id": "f79ed8f6-eb26-4c6c-ad84-01f06e1d8b17",
   "metadata": {},
   "outputs": [],
   "source": [
    "from sklearn.svm import SVC\n",
    "svc_simple2 = SVC() # probabilityで確率出力\n",
    "svc_simple2.fit(train_X80, train_y80)\n",
    "svc_simple2_pred = svc_simple2.predict(test_X20)\n",
    "print(classification_report(test_y20, svc_simple2_pred))"
   ]
  },
  {
   "cell_type": "markdown",
   "id": "4b949faa-98ae-42cb-87e8-0c20d66f38ff",
   "metadata": {},
   "source": [
    "#### 決定木"
   ]
  },
  {
   "cell_type": "code",
   "execution_count": null,
   "id": "9f41086a-adcc-46f3-ab98-7c53fd36eacf",
   "metadata": {},
   "outputs": [],
   "source": [
    "from sklearn.tree import DecisionTreeClassifier\n",
    "dtc_simple2 = DecisionTreeClassifier()\n",
    "dtc_simple2.fit(train_X80, train_y80)\n",
    "dtc_simple2_pred = dtc_simple2.predict(test_X20)\n",
    "print(classification_report(test_y20, dtc_simple2_pred))"
   ]
  },
  {
   "cell_type": "markdown",
   "id": "768d9bf0-75cf-421d-9b36-33d8da3077d6",
   "metadata": {},
   "source": [
    "## 【問題3】 回帰問題を解くコードの作成\n",
    "線形回帰でHouse Pricesデータセットを学習・推定するコードを作成してください。"
   ]
  },
  {
   "cell_type": "code",
   "execution_count": null,
   "id": "6ed7989d-64f7-46c2-bee3-2449ae782f50",
   "metadata": {},
   "outputs": [],
   "source": [
    "test_df = pd.read_csv('test.csv')\n",
    "train_df = pd.read_csv('train.csv')"
   ]
  },
  {
   "cell_type": "code",
   "execution_count": null,
   "id": "0ae0d985-da56-4f39-aeb9-ec84b6b10442",
   "metadata": {},
   "outputs": [],
   "source": [
    "y = train_df['SalePrice']\n",
    "XX = train_df[['GrLivArea', 'YearBuilt']]"
   ]
  },
  {
   "cell_type": "code",
   "execution_count": null,
   "id": "df2b0a92-eb19-4ab3-8cf5-5d817802ca2f",
   "metadata": {},
   "outputs": [],
   "source": [
    "from sklearn.linear_model import SGDRegressor"
   ]
  },
  {
   "cell_type": "code",
   "execution_count": null,
   "id": "e014c8c6-3401-4fc7-94ec-918b72a60233",
   "metadata": {},
   "outputs": [],
   "source": [
    "scaler = MinMaxScaler()\n",
    "X = scaler.fit_transform(XX)"
   ]
  },
  {
   "cell_type": "code",
   "execution_count": null,
   "id": "960ae58c-98cd-47cf-a723-c26eac668a35",
   "metadata": {},
   "outputs": [],
   "source": [
    "# データ分別\n",
    "train_X80, test_X20, train_y80, test_y20 = scratch_train_test_split(X, y)"
   ]
  },
  {
   "cell_type": "markdown",
   "id": "d73a2998-16e5-480c-a32a-e93f51a16040",
   "metadata": {},
   "source": [
    "#### ロジスティック回帰 minmax"
   ]
  },
  {
   "cell_type": "code",
   "execution_count": null,
   "id": "7cf8a1a4-e85a-4e97-8af3-68de9459079e",
   "metadata": {},
   "outputs": [],
   "source": [
    "from sklearn.linear_model import SGDRegressor\n",
    "sgd_reg = SGDClassifier()\n",
    "sgd_reg.fit(train_X80, train_y80)\n",
    "sgd_reg_prod = sgd_reg.predict(test_X20)"
   ]
  },
  {
   "cell_type": "code",
   "execution_count": null,
   "id": "3ec1cf2d-13ac-406c-90f2-92338f67eab8",
   "metadata": {},
   "outputs": [],
   "source": [
    "from sklearn.metrics import mean_squared_error\n",
    "print(mean_squared_error(test_y20, sgd_reg_prod)) # 平均二乗誤差"
   ]
  },
  {
   "cell_type": "code",
   "execution_count": null,
   "id": "5ececcb1-a844-477d-99d1-4287c09ecc43",
   "metadata": {},
   "outputs": [],
   "source": [
    "import seaborn as sns\n",
    "sns.distplot(test_y20)\n",
    "sns.distplot(sgd_reg_prod)"
   ]
  },
  {
   "cell_type": "markdown",
   "id": "9e5658cb-d8de-483f-9065-4a667451f65b",
   "metadata": {},
   "source": [
    "#### ロジスティック回帰 標準化"
   ]
  },
  {
   "cell_type": "code",
   "execution_count": null,
   "id": "ba2d2b05-8680-43d8-9b68-92a97cb4ae7f",
   "metadata": {},
   "outputs": [],
   "source": [
    "from sklearn.preprocessing import StandardScaler\n",
    "scaler = StandardScaler()\n",
    "X = scaler.fit_transform(XX)"
   ]
  },
  {
   "cell_type": "code",
   "execution_count": null,
   "id": "0b0b40e7-57a9-42f8-8142-f92b7566d666",
   "metadata": {},
   "outputs": [],
   "source": [
    "# データ分別\n",
    "train_X80, test_X20, train_y80, test_y20 = scratch_train_test_split(X, y)"
   ]
  },
  {
   "cell_type": "code",
   "execution_count": null,
   "id": "2a19c2c4-e83f-4d77-9880-deea82ff1e72",
   "metadata": {},
   "outputs": [],
   "source": [
    "sgd_reg2 = SGDClassifier()\n",
    "sgd_reg2.fit(train_X80, train_y80)\n",
    "sgd_reg2_prod = sgd_reg2.predict(test_X20)"
   ]
  },
  {
   "cell_type": "code",
   "execution_count": null,
   "id": "52fa4662-ef3a-494b-a8cc-730108581405",
   "metadata": {},
   "outputs": [],
   "source": [
    "print(mean_squared_error(test_y20, sgd_reg_prod)) # 平均二乗誤差"
   ]
  },
  {
   "cell_type": "code",
   "execution_count": null,
   "id": "f6983123-77d0-4f5a-91ff-9a2645659db9",
   "metadata": {},
   "outputs": [],
   "source": [
    "import seaborn as sns\n",
    "sns.distplot(test_y20)\n",
    "sns.distplot(sgd_reg2_prod)"
   ]
  }
 ],
 "metadata": {
  "kernelspec": {
   "display_name": "Python 3",
   "language": "python",
   "name": "python3"
  },
  "language_info": {
   "codemirror_mode": {
    "name": "ipython",
    "version": 3
   },
   "file_extension": ".py",
   "mimetype": "text/x-python",
   "name": "python",
   "nbconvert_exporter": "python",
   "pygments_lexer": "ipython3",
   "version": "3.8.8"
  }
 },
 "nbformat": 4,
 "nbformat_minor": 5
}
